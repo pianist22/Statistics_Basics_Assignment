{
 "cells": [
  {
   "cell_type": "markdown",
   "id": "3837a3d3-f283-4053-8fda-e76439c7476d",
   "metadata": {},
   "source": [
    "# Statistics Basics Assignment"
   ]
  },
  {
   "cell_type": "markdown",
   "id": "91afc6a4-7c03-4fc3-a45e-c7e43ae246e5",
   "metadata": {},
   "source": [
    "### Ques1) Explain the different types of data (qualitative and quantitative) and provide examples."
   ]
  },
  {
   "cell_type": "code",
   "execution_count": 1,
   "id": "891f71f2-cde1-49e0-9da3-9faa45a17552",
   "metadata": {},
   "outputs": [],
   "source": [
    "# Qualitative Data (Categorical): Non-numeric, e.g., Nominal (Gender: Male/Female) and Ordinal (Education Level: High School, Bachelor\n",
    "# 's, Master's).\n",
    "# Quantitative Data (Numeric): Numeric, e.g., Interval (Temperature in Celsius) and Ratio (Height, Weight)."
   ]
  },
  {
   "cell_type": "markdown",
   "id": "13df4b44-8d64-451f-97c9-4ada427daea0",
   "metadata": {},
   "source": [
    "### Ques2) What are the measures of central tendency, and when should you use them?"
   ]
  },
  {
   "cell_type": "code",
   "execution_count": 6,
   "id": "5bcea432-153b-427d-866d-95d1ef15646f",
   "metadata": {},
   "outputs": [
    {
     "name": "stdout",
     "output_type": "stream",
     "text": [
      "Mean: 2.6\n",
      "Median: 3\n",
      "Mode: 3\n"
     ]
    }
   ],
   "source": [
    "# Different measures of central tendency:\n",
    "# Mean: Use when data is symmetric; calculated as sum(data)/len(data).\n",
    "# Median: Use for skewed data or outliers; middle value after sorting.\n",
    "# Mode: Use for categorical data; most frequent value.\n",
    "\n",
    "import statistics\n",
    "data = [1, 2, 3, 3, 4]\n",
    "mean = sum(data) / len(data)\n",
    "median = statistics.median(data)\n",
    "mode = statistics.mode(data)\n",
    "print(\"Mean:\",mean)\n",
    "print(\"Median:\",median)\n",
    "print(\"Mode:\",mode)"
   ]
  },
  {
   "cell_type": "markdown",
   "id": "6ce47878-eacd-4b93-8487-09cc44c96722",
   "metadata": {},
   "source": [
    "### Ques3) Explain the concept of dispersion."
   ]
  },
  {
   "cell_type": "code",
   "execution_count": 7,
   "id": "4e53abc0-4643-400b-b467-295dc8f62f18",
   "metadata": {},
   "outputs": [
    {
     "name": "stdout",
     "output_type": "stream",
     "text": [
      "variance: 2.5\n",
      "Standard Deviation: 1.5811388300841898\n"
     ]
    }
   ],
   "source": [
    "# A measure of dispersion is a statistical tool that shows how spread out a set of data is around its central value. It's used to \n",
    "# describe the variation of data and how homogeneous or heterogeneous it is.\n",
    "\n",
    "# Variance: Average squared deviation from the mean.\n",
    "# Standard Deviation (SD): Square root of variance, indicating spread\n",
    "\n",
    "import statistics\n",
    "data = [1, 2, 3, 4, 5]\n",
    "variance = statistics.variance(data)\n",
    "std_dev = statistics.stdev(data)\n",
    "print(\"variance:\",variance)\n",
    "print(\"Standard Deviation:\",std_dev)"
   ]
  },
  {
   "cell_type": "markdown",
   "id": "afec9e63-4dd2-4e31-adb7-7d83a3c3831e",
   "metadata": {},
   "source": [
    "### Ques4)  What is a box plot, and what can it tell you about the data?"
   ]
  },
  {
   "cell_type": "code",
   "execution_count": 8,
   "id": "cfd32721-8fef-4a27-b1f8-354262d8f69f",
   "metadata": {},
   "outputs": [
    {
     "data": {
      "image/png": "[encoded data removed]",
      "text/plain": [
       "<Figure size 640x480 with 1 Axes>"
      ]
     },
     "metadata": {},
     "output_type": "display_data"
    }
   ],
   "source": [
    "# A Box Plot visualizes data spread, highlighting median, quartiles, and outliers.\n",
    "# It shows the distribution shape and variability of the dataset, helping identify extreme values or symmetry.\n",
    "\n",
    "# A Box Plot shows the distribution, median, IQR, and outliers.\n",
    "\n",
    "import matplotlib.pyplot as plt\n",
    "data = [1, 2, 3, 4, 5, 20]\n",
    "plt.boxplot(data)\n",
    "plt.show()"
   ]
  },
  {
   "cell_type": "markdown",
   "id": "c8da8af6-4b55-49cb-8b52-9199568a062d",
   "metadata": {},
   "source": [
    "### Ques5)  Discuss the role of random sampling."
   ]
  },
  {
   "cell_type": "code",
   "execution_count": 10,
   "id": "0769a3a3-7ff6-4ca6-9334-66ed8f247651",
   "metadata": {},
   "outputs": [
    {
     "name": "stdout",
     "output_type": "stream",
     "text": [
      "[2, 16, 72, 71, 1, 49, 93, 7, 75, 10]\n"
     ]
    }
   ],
   "source": [
    "# Random Sampling: Ensures unbiased representation of the population. It improves the accuracy of inferences.\n",
    "\n",
    "import random\n",
    "population = list(range(1, 101))\n",
    "sample = random.sample(population, 10)\n",
    "print(sample)"
   ]
  },
  {
   "cell_type": "markdown",
   "id": "b726feb2-b69c-408d-bf46-deb420da3ed4",
   "metadata": {},
   "source": [
    "### Ques6) Explain skewness and its types."
   ]
  },
  {
   "cell_type": "code",
   "execution_count": 12,
   "id": "5526ff73-0ed5-4b7c-bc23-0b2599e6548f",
   "metadata": {},
   "outputs": [
    {
     "name": "stdout",
     "output_type": "stream",
     "text": [
      "1.6170819805041454\n"
     ]
    }
   ],
   "source": [
    "# Skewness measures symmetry of the data:\n",
    "\n",
    "# Zero Skew: Symetrical data.\n",
    "# Positive Skew: Tail on the right (e.g., income data).\n",
    "# Negative Skew: Tail on the left (e.g., test scores).\n",
    "\n",
    "from scipy.stats import skew\n",
    "data = [1, 2, 2, 3, 3, 4, 10]\n",
    "skewness = skew(data)\n",
    "print(skewness)"
   ]
  },
  {
   "cell_type": "markdown",
   "id": "cc722134-af83-4a13-9f03-707a440714fd",
   "metadata": {},
   "source": [
    "### Ques7) What is the interquartile range (IQR)?"
   ]
  },
  {
   "cell_type": "code",
   "execution_count": 13,
   "id": "da073bf9-a58d-4973-b927-28db67ceaac7",
   "metadata": {},
   "outputs": [
    {
     "name": "stdout",
     "output_type": "stream",
     "text": [
      "InterQuratile Range: 3.5\n"
     ]
    }
   ],
   "source": [
    "# IQR = Q3 - Q1; measures the spread of the middle 50% of data.\n",
    "# Detects outliers: values less than Q1 - 1.5(IQR) or greater than Q3 + 1.5(IQR).\n",
    "\n",
    "import numpy as np\n",
    "data = [1, 2, 3, 4, 5, 6, 7, 20]\n",
    "Q1 = np.percentile(data, 25)\n",
    "Q3 = np.percentile(data, 75)\n",
    "IQR = Q3 - Q1\n",
    "print(\"InterQuratile Range:\",IQR)"
   ]
  },
  {
   "cell_type": "markdown",
   "id": "1736c80e-1fa2-451a-a19c-20fddecc2a2d",
   "metadata": {},
   "source": [
    "### Ques8) Discuss conditions for the binomial distribution."
   ]
  },
  {
   "cell_type": "code",
   "execution_count": 16,
   "id": "c447de08-d294-445d-b187-82f59871842d",
   "metadata": {},
   "outputs": [
    {
     "name": "stdout",
     "output_type": "stream",
     "text": [
      "Probability of Binominal Distribution: 0.11718749999999999\n"
     ]
    }
   ],
   "source": [
    "# Conditions:\n",
    "# Fixed number of trials.\n",
    "# Binary outcomes (success/failure).\n",
    "# Constant probability for success\n",
    "\n",
    "from scipy.stats import binom\n",
    "n, p, k = 10, 0.5, 3\n",
    "probability = binom.pmf(k, n, p)  # Probability of exactly 3 successes\n",
    "print(\"Probability of Binominal Distribution:\",probability)"
   ]
  },
  {
   "cell_type": "markdown",
   "id": "e4f3bf96-9da7-4f68-9ff1-1f740c602260",
   "metadata": {},
   "source": [
    "### Ques9)  Explain the properties of the normal distribution and the empirical rule."
   ]
  },
  {
   "cell_type": "code",
   "execution_count": 17,
   "id": "8114da41-ab03-4734-860e-db8cbc189cfe",
   "metadata": {},
   "outputs": [
    {
     "name": "stdout",
     "output_type": "stream",
     "text": [
      "Probability of Normal Distribution: 0.6826894921370859\n"
     ]
    }
   ],
   "source": [
    "# Normal Distribution: Bell-shaped curve, symmetric around the mean.\n",
    "# Empirical Rule:\n",
    "# 68% of data within 1 SD, 95% within 2 SDs, 99.7% within 3 SDs.\n",
    "\n",
    "from scipy.stats import norm\n",
    "mean, std_dev = 0, 1\n",
    "prob_1_sd = norm.cdf(1, mean, std_dev) - norm.cdf(-1, mean, std_dev)\n",
    "print(\"Probability of Normal Distribution:\",prob_1_sd)"
   ]
  },
  {
   "cell_type": "markdown",
   "id": "af42f5c7-ba97-4946-b905-22872d3fc048",
   "metadata": {},
   "source": [
    "### Ques10) Provide a real-life example of a Poisson process."
   ]
  },
  {
   "cell_type": "code",
   "execution_count": 19,
   "id": "8d953fdc-0c70-4492-a2fa-db1797452e2d",
   "metadata": {},
   "outputs": [
    {
     "name": "stdout",
     "output_type": "stream",
     "text": [
      "Poission Distribution: 0.10081881344492458\n"
     ]
    }
   ],
   "source": [
    "# Describes rare, independent events in a fixed time (e.g., arrivals at a service center).\n",
    "# Events occur at a constant rate; used in queueing theory and telecom traffic.\n",
    "\n",
    "from scipy.stats import poisson\n",
    "rate, k = 3, 5  # Average 3 arrivals/hour, find P(5 arrivals)\n",
    "probability = poisson.pmf(k, rate)\n",
    "print(\"Poission Distribution:\",probability)"
   ]
  },
  {
   "cell_type": "markdown",
   "id": "7c43e678-83fc-4141-982f-907eda33f2eb",
   "metadata": {},
   "source": [
    "### Ques11)  Explain random variables and types."
   ]
  },
  {
   "cell_type": "code",
   "execution_count": 20,
   "id": "db15502f-c0a7-4eb5-90e1-d34eaf881e49",
   "metadata": {},
   "outputs": [],
   "source": [
    "# Maps outcomes to numeric values.\n",
    "\n",
    "# Discrete: Finite/countable values (e.g., coin tosses).\n",
    "# Continuous: Infinite values in a range (e.g., height, temperature).\n",
    "# Used in probability distributions like normal or binomial."
   ]
  },
  {
   "cell_type": "markdown",
   "id": "822b3d20-4fb3-4844-9a3f-cdee3df6addc",
   "metadata": {},
   "source": [
    "### Ques12) Provide an example dataset, calculate covariance and correlation."
   ]
  },
  {
   "cell_type": "code",
   "execution_count": 21,
   "id": "58707b2b-01f5-4852-b161-d744ed36a80b",
   "metadata": {},
   "outputs": [
    {
     "name": "stdout",
     "output_type": "stream",
     "text": [
      "Covariance: 5.0\n",
      "Correaltion: 0.9999999999999999\n"
     ]
    }
   ],
   "source": [
    "# Covariance: Measures direction of relationship.\n",
    "# Correlation: Measures strength and direction (-1 to 1)\n",
    "\n",
    "import numpy as np\n",
    "x = [1, 2, 3, 4, 5]\n",
    "y = [2, 4, 6, 8, 10]\n",
    "covariance = np.cov(x, y)[0, 1]\n",
    "correlation = np.corrcoef(x, y)[0, 1]\n",
    "\n",
    "print(\"Covariance:\",covariance)\n",
    "print(\"Correaltion:\",correlation)"
   ]
  },
  {
   "cell_type": "code",
   "execution_count": null,
   "id": "8f1ed4eb-67cf-47ee-b1d0-d90c4e400c83",
   "metadata": {},
   "outputs": [],
   "source": []
  }
 ],
 "metadata": {
  "kernelspec": {
   "display_name": "Python 3 (ipykernel)",
   "language": "python",
   "name": "python3"
  },
  "language_info": {
   "codemirror_mode": {
    "name": "ipython",
    "version": 3
   },
   "file_extension": ".py",
   "mimetype": "text/x-python",
   "name": "python",
   "nbconvert_exporter": "python",
   "pygments_lexer": "ipython3",
   "version": "3.12.6"
  }
 },
 "nbformat": 4,
 "nbformat_minor": 5
}
